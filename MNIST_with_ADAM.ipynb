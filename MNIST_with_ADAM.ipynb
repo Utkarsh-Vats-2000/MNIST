{
  "nbformat": 4,
  "nbformat_minor": 0,
  "metadata": {
    "colab": {
      "name": "MNIST with ADAM.ipynb",
      "provenance": [],
      "authorship_tag": "ABX9TyPzmLHcgdIxGP7qbO6BtGNq"
    },
    "kernelspec": {
      "name": "python3",
      "display_name": "Python 3"
    }
  },
  "cells": [
    {
      "cell_type": "code",
      "metadata": {
        "id": "1kt_xyHfdA9f"
      },
      "source": [
        "import numpy as np\n",
        "import matplotlib.pyplot as plt\n",
        "import pandas as pd\n",
        "import random"
      ],
      "execution_count": null,
      "outputs": []
    },
    {
      "cell_type": "code",
      "metadata": {
        "id": "sriD3PimdFrh",
        "colab": {
          "resources": {
            "http://localhost:8080/nbextensions/google.colab/files.js": {
              "data": "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",
              "ok": true,
              "headers": [
                [
                  "content-type",
                  "application/javascript"
                ]
              ],
              "status": 200,
              "status_text": ""
            }
          },
          "base_uri": "https://localhost:8080/",
          "height": 106
        },
        "outputId": "009aa008-a760-4ea6-d89a-ec63c9f14332"
      },
      "source": [
        "import h5py\n",
        "from google.colab import files\n",
        "uploaded = files.upload()"
      ],
      "execution_count": null,
      "outputs": [
        {
          "output_type": "display_data",
          "data": {
            "text/html": [
              "\n",
              "     <input type=\"file\" id=\"files-a5264467-0627-4c6b-b59f-49b991590250\" name=\"files[]\" multiple disabled\n",
              "        style=\"border:none\" />\n",
              "     <output id=\"result-a5264467-0627-4c6b-b59f-49b991590250\">\n",
              "      Upload widget is only available when the cell has been executed in the\n",
              "      current browser session. Please rerun this cell to enable.\n",
              "      </output>\n",
              "      <script src=\"/nbextensions/google.colab/files.js\"></script> "
            ],
            "text/plain": [
              "<IPython.core.display.HTML object>"
            ]
          },
          "metadata": {
            "tags": []
          }
        },
        {
          "output_type": "stream",
          "text": [
            "Saving test.hdf5 to test.hdf5\n",
            "Saving train.hdf5 to train.hdf5\n"
          ],
          "name": "stdout"
        }
      ]
    },
    {
      "cell_type": "code",
      "metadata": {
        "id": "ciUYmQVYdJjj"
      },
      "source": [
        "f1 = h5py.File(\"train.hdf5\",\"r\")\n",
        "X_train = np.array(f1[\"image\"])/255\n",
        "Y_train = np.array([f1[\"label\"]])\n",
        "X_train = np.reshape(X_train,(60000,784)).T"
      ],
      "execution_count": null,
      "outputs": []
    },
    {
      "cell_type": "code",
      "metadata": {
        "id": "UvXdVSn5dmjx"
      },
      "source": [
        "f2 = h5py.File(\"test.hdf5\",\"r\")\n",
        "X_test = np.array(f2[\"image\"])/255\n",
        "Y_test = np.array([f2[\"label\"]])\n",
        "shape = (Y_test.size, Y_test.max()+1)\n",
        "one_hot = np.zeros(shape)\n",
        "rows = np.arange(Y_test.size)\n",
        "one_hot[rows, Y_test] = 1\n",
        "Y_test = one_hot.T\n",
        "X_test = np.reshape(X_test,(10000,784)).T"
      ],
      "execution_count": null,
      "outputs": []
    },
    {
      "cell_type": "code",
      "metadata": {
        "id": "OEE_y--OeJXd",
        "colab": {
          "base_uri": "https://localhost:8080/",
          "height": 51
        },
        "outputId": "cfd6112d-c08d-4774-b0aa-5fe2973f0712"
      },
      "source": [
        "def sigmoid(z) :\n",
        "  return (1/(1+np.exp(-z)))\n",
        "def relu(X) :\n",
        "  X[X<0]=0\n",
        "  return X\n",
        "shape = (Y_train.size, Y_train.max()+1)\n",
        "one_hot = np.zeros(shape)\n",
        "rows = np.arange(Y_train.size)\n",
        "one_hot[rows, Y_train] = 1\n",
        "Y_train = one_hot.T\n",
        "shuffle_index = np.random.permutation(X_train.shape[1])\n",
        "X_train,Y_train = X_train[:,shuffle_index] , Y_train[:,shuffle_index]\n",
        "print(X_train.shape)\n",
        "print(Y_train.shape)\n",
        "n = X_train.shape[0]\n",
        "m = X_train.shape[1]"
      ],
      "execution_count": null,
      "outputs": [
        {
          "output_type": "stream",
          "text": [
            "(784, 60000)\n",
            "(10, 60000)\n"
          ],
          "name": "stdout"
        }
      ]
    },
    {
      "cell_type": "code",
      "metadata": {
        "id": "3N669O4qeMII"
      },
      "source": [
        "def softmax(x) :\n",
        "  x = x - np.max(x)\n",
        "  return np.exp(x) / np.sum(np.exp(x), axis=0,keepdims=True)\n",
        "def relu(X) :\n",
        "  X[X<0]=0\n",
        "  return X\n",
        "def initialize_wts(struct) :\n",
        "  W = {}\n",
        "  b = {}\n",
        "  for i in range(1,len(struct)) :\n",
        "    W[\"W\" + str(i)] = np.random.randn(struct[i],struct[i-1])*np.sqrt(2/struct[i-1])\n",
        "    #W[\"W\" + str(i)] = np.random.randn(struct[i],struct[i-1])*0.01\n",
        "    #W[\"W\" + str(i)] = np.random.rand(struct[i],struct[i-1])\n",
        "    b[\"b\" + str(i)] = np.zeros((struct[i],1))\n",
        "  return W,b\n",
        "def forward_prop(X_train,W,b) :\n",
        "  return relu(np.dot(W,X_train) + b)"
      ],
      "execution_count": null,
      "outputs": []
    },
    {
      "cell_type": "code",
      "metadata": {
        "id": "4BaPoxN-eQv2"
      },
      "source": [
        "def model(struct,X_train,Y_train,lr,W,b,vdw,vdb,sdw,sdb,laa,num_itr) :\n",
        "  n = X_train.shape[0]\n",
        "  m = X_train.shape[1]\n",
        "  beta = 0.8\n",
        "  beta2 = 0.8\n",
        "  epsilon = 1e-8\n",
        "  cost1 = 50\n",
        "  for k in range(0,num_itr) :\n",
        "    A = {}\n",
        "    A[\"A\" + str(0)] = np.copy(X_train)\n",
        "    for i in range(1,len(struct)-1) :\n",
        "      A[\"A\" + str(i)] = forward_prop(A[\"A\" + str(i-1)],W[\"W\" + str(i)],b[\"b\" + str(i)])\n",
        "    A[\"A\" + str(len(struct) - 1)] = softmax(np.dot(W[\"W\" + str(len(struct) - 1)] , A[\"A\" + str(len(struct) - 2)]) + b[\"b\" + str(len(struct) - 1)])\n",
        "    dW = {}\n",
        "    db = {}\n",
        "    dZ = {}\n",
        "    dZ[\"dZ\" + str(len(struct) - 1)] = A[\"A\" + str(len(struct) - 1)] - Y_train\n",
        "    dW[\"dW\" + str(len(struct) - 1)] = (1/m)*(np.dot(dZ[\"dZ\" + str(len(struct) - 1)],A[\"A\" + str(len(struct) - 2)].T))\n",
        "    db[\"db\" + str(len(struct) - 1)] = (1/m)*(np.sum(dZ[\"dZ\" + str(len(struct) - 1)],axis = 1, keepdims = True))\n",
        "    for i in range(0,len(W) - 1) :\n",
        "      dZ[\"dZ\" + str(len(W) - 1 - i)] = np.dot(W[\"W\" + str(len(W) - i)].T,dZ[\"dZ\" + str(len(W) - i)])*np.int64(A[\"A\" + str(len(W) - 1 - i)] > 0)\n",
        "      dW[\"dW\" + str(len(W) - 1 - i)] = (1/m)*np.dot(dZ[\"dZ\" + str(len(W) - 1 - i)] , A[\"A\" + str(len(W) - 1 - i - 1)].T)\n",
        "      db[\"db\" + str(len(W) - i - 1)] = (1/m)*np.sum(dZ[\"dZ\" + str(len(W) - 1 - i)],axis = 1,keepdims = True)\n",
        "    for i in range(1,len(W) + 1) :\n",
        "      vdw[\"vdw\" + str(i)] = (beta*vdw[\"vdw\" + str(i)] + (1-beta)*dW[\"dW\" + str(i)])/(1 - beta**(laa+1))\n",
        "      vdb[\"vdb\" + str(i)] = (beta*vdb[\"vdb\" + str(i)] + (1-beta)*db[\"db\" + str(i)])/(1 - beta**(laa+1))\n",
        "      sdw[\"sdw\" + str(i)] = (beta2*sdw[\"sdw\" + str(i)] + (1-beta2)*dW[\"dW\" + str(i)]*dW[\"dW\" + str(i)])/(1 - beta2**(laa+1))\n",
        "      sdb[\"sdb\" + str(i)] = (beta2*sdb[\"sdb\" + str(i)] + (1-beta2)*db[\"db\" + str(i)]*db[\"db\" + str(i)])/(1 - beta2**(laa+1))\n",
        "      #vdw[\"vdw\" + str(i)] = beta*vdw[\"vdw\" + str(i)] + (1-beta)*dW[\"dW\" + str(i)]\n",
        "      #vdb[\"vdb\" + str(i)] = beta*vdb[\"vdb\" + str(i)] + (1-beta)*db[\"db\" + str(i)]\n",
        "      #sdw[\"sdw\" + str(i)] = beta2*sdw[\"sdw\" + str(i)] + (1-beta2)*dW[\"dW\" + str(i)]*dW[\"dW\" + str(i)]\n",
        "      #sdb[\"sdb\" + str(i)] = beta2*sdb[\"sdb\" + str(i)] + (1-beta2)*db[\"db\" + str(i)]*db[\"db\" + str(i)]\n",
        "      W[\"W\" + str(i)] = W[\"W\" + str(i)] - lr*(vdw[\"vdw\" + str(i)]/(np.sqrt(sdw[\"sdw\" + str(i)]) + epsilon))\n",
        "      b[\"b\" + str(i)] = b[\"b\" + str(i)] - lr*(vdb[\"vdb\" + str(i)]/(np.sqrt(sdb[\"sdb\" + str(i)]) + epsilon))\n",
        "    cost = (-1/m)*(np.dot(Y_train,np.log(A[\"A\" + str(len(struct) - 1)]).T) + np.dot(1 - Y_train,np.log(1 - A[\"A\" + str(len(struct) - 1)]).T))\n",
        "    #cost1 = (-1/m)*np.sum(np.dot(Y_train,np.log(A[\"A\" + str(len(struct) - 1)]).T) + np.dot(1 - Y_train,np.log(1 - A[\"A\" + str(len(struct) - 1)]).T))\n",
        "    cost1 = -np.mean(Y_train * np.log(A[\"A\" + str(len(struct) - 1)] + 1e-8))\n",
        "    #log_likelihood = -np.log(A[\"A\" + str(len(struct) - 1)][range(m),Y_train])\n",
        "    #cost1 = np.sum(log_likelihood) / m\n",
        "    #costu.append(float(cost1))\n",
        "    #print(\"Cost after {}th iteration is : {} {}\".format(k,cost1,lr))\n",
        "  #plt.plot(list(range(num_itr)) , costu)\n",
        "  #plt.show()\n",
        "  return W,b,A[\"A\" + str(len(struct) - 1)],float(cost1),vdw,vdb,sdw,sdb"
      ],
      "execution_count": null,
      "outputs": []
    },
    {
      "cell_type": "code",
      "metadata": {
        "id": "89PI_-KreWk9"
      },
      "source": [
        "def train(struct,X_train,Y_train,lr,epoks,batch_size):\n",
        "  costu = []\n",
        "  W,b = initialize_wts(struct)\n",
        "  vdw = {}\n",
        "  vdb = {}\n",
        "  sdw = {}\n",
        "  sdb = {}\n",
        "  for i in range(1,len(W) + 1) :\n",
        "    vdw[\"vdw\" + str(i)] = 0\n",
        "    vdb[\"vdb\" + str(i)] = 0\n",
        "    sdw[\"sdw\" + str(i)] = 0\n",
        "    sdb[\"sdb\" + str(i)] = 0\n",
        "  l = 0\n",
        "  for j in range(0,epoks) :\n",
        "    for i in range(0,int(X_train.shape[1]/batch_size)+1) :\n",
        "      if i != int(X_train.shape[1]/batch_size) :\n",
        "        X_batch = X_train[:,i*batch_size:(i+1)*batch_size]\n",
        "        Y_batch = Y_train[:,i*batch_size:(i+1)*batch_size]\n",
        "        lim = (i+1)*batch_size\n",
        "      elif i*batch_size == X_train.shape[1] :\n",
        "        continue\n",
        "      else :\n",
        "        X_batch = X_train[:,i*batch_size:-1]\n",
        "        Y_batch = Y_train[:,i*batch_size:-1]\n",
        "        lim = X_train.shape[1]\n",
        "      W,b,A,cost1,vdw,vdb,sdw,sdb = model(struct , X_batch , Y_batch , lr ,W,b,vdw,vdb,sdw,sdb,l,num_itr = 1)\n",
        "      costu.append(cost1)\n",
        "      print(\"Epok : {}  Data_Passed : {}/{}  Train_Loss : {}\".format(j+1,lim,X_train.shape[1],cost1))\n",
        "      l = l + 1\n",
        "  A = {}\n",
        "  A[\"A\" + str(0)] = np.copy(X_train)\n",
        "  for i in range(1,len(struct)-1) :\n",
        "    A[\"A\" + str(i)] = forward_prop(A[\"A\" + str(i-1)],W[\"W\" + str(i)],b[\"b\" + str(i)])\n",
        "  A = softmax(np.dot(W[\"W\" + str(len(struct) - 1)] , A[\"A\" + str(len(struct) - 2)]) + b[\"b\" + str(len(struct) - 1)])\n",
        "  plt.plot(list(range(len(costu))),costu)\n",
        "  return W,b,A"
      ],
      "execution_count": null,
      "outputs": []
    },
    {
      "cell_type": "code",
      "metadata": {
        "id": "ejhXNALqeaRw"
      },
      "source": [
        "W,b,A = train([n,600,400,200,100,50,10],X_train,Y_train,0.001,5,64)"
      ],
      "execution_count": null,
      "outputs": []
    },
    {
      "cell_type": "code",
      "metadata": {
        "id": "-KvgrsozfDJG"
      },
      "source": [
        ""
      ],
      "execution_count": null,
      "outputs": []
    },
    {
      "cell_type": "code",
      "metadata": {
        "id": "mzdxYVTgmgL-"
      },
      "source": [
        "def get_output(X,W,b) :\n",
        "  struct = len(W) + 1\n",
        "  A = {}\n",
        "  A[\"A\" + str(0)] = np.copy(X)\n",
        "  for i in range(1,struct-1) :\n",
        "    A[\"A\" + str(i)] = forward_prop(A[\"A\" + str(i-1)],W[\"W\" + str(i)],b[\"b\" + str(i)])\n",
        "  A[\"A\" + str(struct - 1)] = softmax(np.dot(W[\"W\" + str(struct - 1)] , A[\"A\" + str(struct - 2)]) + b[\"b\" + str(struct - 1)])\n",
        "  return A[\"A\" + str(struct - 1)]"
      ],
      "execution_count": null,
      "outputs": []
    },
    {
      "cell_type": "code",
      "metadata": {
        "id": "F55DQiC-mjj0"
      },
      "source": [
        "def predict(A,Y) :\n",
        "  for i in range(0,A.shape[1]) :\n",
        "    a = np.max(A[:,i])\n",
        "    A[:,i] = (A[:,i] == a)\n",
        "  fai = np.absolute(A - Y)\n",
        "  count = 0\n",
        "  for i in range(0,fai.shape[1]) :\n",
        "    if np.sum(fai[:,i]) == 0 :\n",
        "      count += 1\n",
        "  return (count/A.shape[1])*100"
      ],
      "execution_count": null,
      "outputs": []
    },
    {
      "cell_type": "code",
      "metadata": {
        "id": "EnkhT6V7nSX7",
        "colab": {
          "base_uri": "https://localhost:8080/",
          "height": 105
        },
        "outputId": "3d71bfef-e241-469a-df11-cb986e41f2ba"
      },
      "source": [
        "A_train = get_output(X_train,W,b)\n",
        "A_test  = get_output(X_test,W,b)\n",
        "print(\"Train accuracy is {}\".format(predict(A_train,Y_train)))\n",
        "print(\"Test accuracy is {}\".format(predict(A_test,Y_test)))"
      ],
      "execution_count": null,
      "outputs": [
        {
          "output_type": "stream",
          "text": [
            "/usr/local/lib/python3.6/dist-packages/ipykernel_launcher.py:3: RuntimeWarning: invalid value encountered in true_divide\n",
            "  This is separate from the ipykernel package so we can avoid doing imports until\n"
          ],
          "name": "stderr"
        },
        {
          "output_type": "stream",
          "text": [
            "Train accuracy is 98.19333333333333\n",
            "Test accuracy is 96.95\n"
          ],
          "name": "stdout"
        }
      ]
    },
    {
      "cell_type": "code",
      "metadata": {
        "id": "1WOLxQJhnU0z"
      },
      "source": [
        ""
      ],
      "execution_count": null,
      "outputs": []
    }
  ]
}